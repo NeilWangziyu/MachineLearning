{
 "cells": [
  {
   "cell_type": "code",
   "execution_count": 1,
   "metadata": {},
   "outputs": [],
   "source": [
    "import numpy as np\n",
    "import pandas as pd\n",
    "import matplotlib.pyplot as plt\n"
   ]
  },
  {
   "cell_type": "code",
   "execution_count": 2,
   "metadata": {},
   "outputs": [
    {
     "name": "stdout",
     "output_type": "stream",
     "text": [
      "hello world\n"
     ]
    }
   ],
   "source": [
    "print('hello world')"
   ]
  },
  {
   "cell_type": "code",
   "execution_count": 3,
   "metadata": {},
   "outputs": [
    {
     "name": "stdout",
     "output_type": "stream",
     "text": [
      "test\n"
     ]
    }
   ],
   "source": [
    "print('test')"
   ]
  },
  {
   "cell_type": "code",
   "execution_count": 4,
   "metadata": {},
   "outputs": [
    {
     "name": "stdout",
     "output_type": "stream",
     "text": [
      "test\n"
     ]
    }
   ],
   "source": [
    "print('test')"
   ]
  },
  {
   "cell_type": "code",
   "execution_count": 5,
   "metadata": {},
   "outputs": [],
   "source": [
    "import torch"
   ]
  },
  {
   "cell_type": "code",
   "execution_count": 6,
   "metadata": {},
   "outputs": [
    {
     "ename": "ModuleNotFoundError",
     "evalue": "No module named 'tensorflow'",
     "output_type": "error",
     "traceback": [
      "\u001b[0;31m---------------------------------------------------------------------------\u001b[0m",
      "\u001b[0;31mModuleNotFoundError\u001b[0m                       Traceback (most recent call last)",
      "\u001b[0;32m<ipython-input-6-64156d691fe5>\u001b[0m in \u001b[0;36m<module>\u001b[0;34m\u001b[0m\n\u001b[0;32m----> 1\u001b[0;31m \u001b[0;32mimport\u001b[0m \u001b[0mtensorflow\u001b[0m \u001b[0;32mas\u001b[0m \u001b[0mtf\u001b[0m\u001b[0;34m\u001b[0m\u001b[0;34m\u001b[0m\u001b[0m\n\u001b[0m",
      "\u001b[0;31mModuleNotFoundError\u001b[0m: No module named 'tensorflow'"
     ]
    }
   ],
   "source": [
    "import tensorflow as tf"
   ]
  },
  {
   "cell_type": "code",
   "execution_count": 7,
   "metadata": {},
   "outputs": [
    {
     "ename": "ModuleNotFoundError",
     "evalue": "No module named 'keras'",
     "output_type": "error",
     "traceback": [
      "\u001b[0;31m---------------------------------------------------------------------------\u001b[0m",
      "\u001b[0;31mModuleNotFoundError\u001b[0m                       Traceback (most recent call last)",
      "\u001b[0;32m<ipython-input-7-88d96843a926>\u001b[0m in \u001b[0;36m<module>\u001b[0;34m\u001b[0m\n\u001b[0;32m----> 1\u001b[0;31m \u001b[0;32mimport\u001b[0m \u001b[0mkeras\u001b[0m\u001b[0;34m\u001b[0m\u001b[0;34m\u001b[0m\u001b[0m\n\u001b[0m",
      "\u001b[0;31mModuleNotFoundError\u001b[0m: No module named 'keras'"
     ]
    }
   ],
   "source": [
    "import keras"
   ]
  },
  {
   "cell_type": "code",
   "execution_count": 8,
   "metadata": {},
   "outputs": [
    {
     "name": "stdout",
     "output_type": "stream",
     "text": [
      "Package            Version  \n",
      "------------------ ---------\n",
      "appnope            0.1.0    \n",
      "attrs              19.3.0   \n",
      "backcall           0.1.0    \n",
      "bleach             3.1.0    \n",
      "certifi            2019.6.16\n",
      "chardet            3.0.4    \n",
      "cycler             0.10.0   \n",
      "decorator          4.4.1    \n",
      "defusedxml         0.6.0    \n",
      "entrypoints        0.3      \n",
      "get                2019.4.13\n",
      "idna               2.8      \n",
      "importlib-metadata 0.23     \n",
      "ipykernel          5.1.3    \n",
      "ipython            7.9.0    \n",
      "ipython-genutils   0.2.0    \n",
      "ipywidgets         7.5.1    \n",
      "jedi               0.15.1   \n",
      "Jinja2             2.10.3   \n",
      "joblib             0.14.0   \n",
      "jsonschema         3.1.1    \n",
      "jupyter            1.0.0    \n",
      "jupyter-client     5.3.4    \n",
      "jupyter-console    6.0.0    \n",
      "jupyter-core       4.6.1    \n",
      "kiwisolver         1.1.0    \n",
      "libxml2-python     2.9.9    \n",
      "lxml               4.4.0    \n",
      "MarkupSafe         1.1.1    \n",
      "matplotlib         3.1.1    \n",
      "mistune            0.8.4    \n",
      "more-itertools     7.2.0    \n",
      "nbconvert          5.6.1    \n",
      "nbformat           4.4.0    \n",
      "notebook           6.0.2    \n",
      "numpy              1.15.0   \n",
      "pandas             0.25.0   \n",
      "pandocfilters      1.4.2    \n",
      "parso              0.5.1    \n",
      "pexpect            4.7.0    \n",
      "pickleshare        0.7.5    \n",
      "Pillow             6.2.1    \n",
      "pip                19.3.1   \n",
      "post               2019.4.13\n",
      "prometheus-client  0.7.1    \n",
      "prompt-toolkit     2.0.10   \n",
      "ptyprocess         0.6.0    \n",
      "public             2019.4.13\n",
      "Pygments           2.4.2    \n",
      "pyparsing          2.4.5    \n",
      "pyrsistent         0.15.5   \n",
      "python-dateutil    2.8.0    \n",
      "pytz               2019.2   \n",
      "pyzmq              18.1.0   \n",
      "qtconsole          4.5.5    \n",
      "query-string       2019.4.13\n",
      "request            2019.4.13\n",
      "requests           2.22.0   \n",
      "scikit-learn       0.21.3   \n",
      "scipy              1.3.2    \n",
      "Send2Trash         1.5.0    \n",
      "setuptools         41.6.0   \n",
      "six                1.12.0   \n",
      "terminado          0.8.3    \n",
      "testpath           0.4.4    \n",
      "torch              1.3.1    \n",
      "torchvision        0.4.2    \n",
      "tornado            6.0.3    \n",
      "traitlets          4.3.3    \n",
      "urllib3            1.25.3   \n",
      "wcwidth            0.1.7    \n",
      "webencodings       0.5.1    \n",
      "wheel              0.33.6   \n",
      "widgetsnbextension 3.5.1    \n",
      "xlwt               1.3.0    \n",
      "zipp               0.6.0    \n"
     ]
    }
   ],
   "source": [
    "!pip3 list\n"
   ]
  },
  {
   "cell_type": "code",
   "execution_count": null,
   "metadata": {},
   "outputs": [],
   "source": []
  }
 ],
 "metadata": {
  "kernelspec": {
   "display_name": "Python 3",
   "language": "python",
   "name": "python3"
  },
  "language_info": {
   "codemirror_mode": {
    "name": "ipython",
    "version": 3
   },
   "file_extension": ".py",
   "mimetype": "text/x-python",
   "name": "python",
   "nbconvert_exporter": "python",
   "pygments_lexer": "ipython3",
   "version": "3.7.5"
  }
 },
 "nbformat": 4,
 "nbformat_minor": 1
}
